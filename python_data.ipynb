{
 "cells": [
  {
   "cell_type": "markdown",
   "metadata": {},
   "source": [
    "### Data type in python"
   ]
  },
  {
   "cell_type": "code",
   "execution_count": 5,
   "metadata": {},
   "outputs": [],
   "source": [
    "# Dynamic type\n",
    "# int, str, float, boolean"
   ]
  },
  {
   "cell_type": "code",
   "execution_count": 18,
   "metadata": {},
   "outputs": [
    {
     "name": "stdout",
     "output_type": "stream",
     "text": [
      "1\n",
      "<class 'int'>\n",
      "2\n",
      "<class 'int'>\n",
      "2\n",
      "<class 'int'>\n",
      "3\n",
      "<class 'int'>\n",
      "3\n",
      "<class 'int'>\n",
      "3\n",
      "<class 'int'>\n",
      "1\n",
      "<class 'int'>\n",
      "2\n",
      "<class 'int'>\n",
      "3\n",
      "<class 'int'>\n",
      "2\n",
      "<class 'int'>\n",
      "4\n",
      "<class 'int'>\n",
      "4\n",
      "<class 'int'>\n",
      "5\n",
      "<class 'int'>\n",
      "6\n",
      "<class 'int'>\n",
      "4\n",
      "<class 'int'>\n"
     ]
    }
   ],
   "source": [
    "# List\n",
    "# methods https://www.w3schools.com/python/python_lists_methods.asp\n",
    "x = [1,2,2,3,3,3,1,2,3,2,4,4,5,6,4]\n",
    "for i in x:\n",
    "    print(i)\n",
    "    print(type(i))"
   ]
  },
  {
   "cell_type": "code",
   "execution_count": 20,
   "metadata": {},
   "outputs": [
    {
     "name": "stdout",
     "output_type": "stream",
     "text": [
      "4\n"
     ]
    }
   ],
   "source": [
    "print(x.count(3))\n"
   ]
  },
  {
   "cell_type": "code",
   "execution_count": 25,
   "metadata": {},
   "outputs": [
    {
     "name": "stdout",
     "output_type": "stream",
     "text": [
      "index 1\n",
      "value 2\n"
     ]
    }
   ],
   "source": [
    "# Tuple\n",
    "# methods https://www.w3schools.com/python/python_ref_tuple.asp\n",
    "tuple_1 = (1,2,3)\n",
    "print('index', tuple_1.index(2))\n",
    "print('value', tuple_1[1])"
   ]
  },
  {
   "cell_type": "code",
   "execution_count": 33,
   "metadata": {},
   "outputs": [
    {
     "name": "stdout",
     "output_type": "stream",
     "text": [
      "Galaxy note 12\n",
      "1500\n",
      "samsung\n"
     ]
    }
   ],
   "source": [
    "# Dict\n",
    "# methods https://www.w3schools.com/python/python_ref_dictionary.asp\n",
    "dict_1 = {'phone': 'iphone-13', 'price': 2500}\n",
    "dict_2 = {'phone': 'Galaxy note 12', 'price': 1500, 'brand': 'samsung'}\n",
    "print(dict_2['phone'])\n",
    "print(dict_2['price'])\n",
    "print(dict_2.get('brand', 'brand not registered'))"
   ]
  },
  {
   "cell_type": "code",
   "execution_count": 84,
   "metadata": {},
   "outputs": [
    {
     "name": "stdout",
     "output_type": "stream",
     "text": [
      "{'phone': 'z-flip', 'price': 1500, 'brand': 'samsung'}\n"
     ]
    }
   ],
   "source": [
    "dict_2 = {'phone': 'Galaxy note 12',\n",
    "          'price': 1500,\n",
    "          'brand': 'samsung',\n",
    "          'phone': 'z-flip'}\n",
    "print(dict_2)"
   ]
  },
  {
   "cell_type": "code",
   "execution_count": 44,
   "metadata": {},
   "outputs": [
    {
     "name": "stdout",
     "output_type": "stream",
     "text": [
      "key_name: phone , value: iphone-13\n",
      "key_name: price , value: 2500\n"
     ]
    }
   ],
   "source": [
    "dict_2 = {'phone': 'Galaxy note 12', 'price': 1500, 'brand': 'samsung'}\n",
    "\n",
    "for k, v in dict_1.items():\n",
    "    print('key_name:', k, ', value:', v)"
   ]
  },
  {
   "cell_type": "code",
   "execution_count": 45,
   "metadata": {},
   "outputs": [
    {
     "name": "stdout",
     "output_type": "stream",
     "text": [
      "keys: dict_keys(['phone', 'price', 'brand'])\n",
      "values: dict_values(['Galaxy note 12', 1500, 'samsung'])\n"
     ]
    }
   ],
   "source": [
    "print('keys:', dict_2.keys())\n",
    "print('values:', dict_2.values())"
   ]
  },
  {
   "cell_type": "code",
   "execution_count": 39,
   "metadata": {},
   "outputs": [
    {
     "name": "stdout",
     "output_type": "stream",
     "text": [
      "Brand: unidentified brand\n",
      "model: iphone-13\n",
      "price: $ 2500\n",
      "===========================\n",
      "Brand: samsung\n",
      "model: Galaxy note 12\n",
      "price: $ 1500\n",
      "===========================\n",
      "Brand: google\n",
      "model: pixel XL\n",
      "price: $ 0\n",
      "===========================\n"
     ]
    }
   ],
   "source": [
    "phones =[\n",
    "    {'model': 'iphone-13', 'price': 2500},\n",
    "    {'model': 'Galaxy note 12', 'price': 1500, 'brand': 'samsung'},\n",
    "    {'model': 'pixel XL', 'brand': 'google'},\n",
    "]\n",
    "\n",
    "for phone in phones:\n",
    "    print('Brand:', phone.get('brand', 'unidentified brand'))\n",
    "    print('model:', phone['model'])\n",
    "    print('price: $', phone.get('price', 0))\n",
    "    print('===========================')\n",
    "    "
   ]
  },
  {
   "cell_type": "code",
   "execution_count": 46,
   "metadata": {},
   "outputs": [
    {
     "name": "stdout",
     "output_type": "stream",
     "text": [
      "[1, 2, 2, 3, 3, 3, 1, 2, 3, 2, 4, 4, 5, 6, 4]\n",
      "{1, 2, 3, 4, 5, 6}\n"
     ]
    }
   ],
   "source": [
    "# Set\n",
    "#  methods https://www.w3schools.com/python/python_ref_dictionary.asp\n",
    "list_1 = [1,2,2,3,3,3,1,2,3,2,4,4,5,6,4]\n",
    "set_1 = set(list_1)\n",
    "print(list_1)\n",
    "print(set_1)"
   ]
  },
  {
   "cell_type": "code",
   "execution_count": 49,
   "metadata": {},
   "outputs": [
    {
     "name": "stdout",
     "output_type": "stream",
     "text": [
      "{0, 1, 2, 3, 4, 5, 6, 7}\n"
     ]
    }
   ],
   "source": [
    "set_1.add(0)\n",
    "print(set_1)"
   ]
  },
  {
   "cell_type": "markdown",
   "metadata": {},
   "source": [
    "### Slicing list/tuple dsb"
   ]
  },
  {
   "cell_type": "code",
   "execution_count": 66,
   "metadata": {},
   "outputs": [
    {
     "name": "stdout",
     "output_type": "stream",
     "text": [
      "22\n",
      "50\n",
      "[56, 79, 90, 200, 30, 40, 50, 55]\n",
      "[21, 23, 22, 43, 56, 79, 90, 200]\n",
      "[90, 200, 30, 40, 50, 55, 55, 90]\n"
     ]
    }
   ],
   "source": [
    "data = [21,23,22,43,56,79,90,200,30,40,50,55,55,90]\n",
    "# indexing\n",
    "# index ke 2\n",
    "print(data[2])\n",
    "# index ke 10\n",
    "print(data[10])\n",
    "\n",
    "# slicing\n",
    "# value expected 56,79,90,200,30,40,50,55\n",
    "# start: 4 end:12\n",
    "print(data[4:12])\n",
    "\n",
    "# values expected 21,23,22,43,56,79,90,200\n",
    "# start: 0 end: 8\n",
    "print(data[:8])\n",
    "\n",
    "# values expected 79,90,200,30,40,50,55,55,90\n",
    "# start: 6 end: 14\n",
    "print(data[6:])"
   ]
  },
  {
   "cell_type": "code",
   "execution_count": 59,
   "metadata": {},
   "outputs": [
    {
     "name": "stdout",
     "output_type": "stream",
     "text": [
      "last index of data: 90\n"
     ]
    }
   ],
   "source": [
    "print('last index of data:', data[-1])"
   ]
  },
  {
   "cell_type": "code",
   "execution_count": 69,
   "metadata": {},
   "outputs": [
    {
     "name": "stdout",
     "output_type": "stream",
     "text": [
      "[21, 23, 22, 43, 56, 79, 90, 200, 30, 40, 50, 55, 55, 90]\n",
      "[90, 55, 55, 50, 40, 30, 200, 90, 79, 56, 43, 22, 23, 21]\n"
     ]
    }
   ],
   "source": [
    "print(data)\n",
    "print(data[::-1])"
   ]
  },
  {
   "cell_type": "markdown",
   "metadata": {},
   "source": [
    "### ndArray in numpy\n",
    "reference https://numpy.org/doc/stable/reference/arrays.ndarray.html"
   ]
  },
  {
   "cell_type": "code",
   "execution_count": 70,
   "metadata": {},
   "outputs": [],
   "source": [
    "import numpy as np"
   ]
  },
  {
   "cell_type": "code",
   "execution_count": 71,
   "metadata": {},
   "outputs": [],
   "source": [
    "x = np.array([[1, 2, 3], [4, 5, 6]], np.int32)"
   ]
  },
  {
   "cell_type": "code",
   "execution_count": 75,
   "metadata": {},
   "outputs": [],
   "source": [
    "matrix_list = np.arange(32).reshape(4,8)"
   ]
  },
  {
   "cell_type": "code",
   "execution_count": 76,
   "metadata": {},
   "outputs": [
    {
     "data": {
      "text/plain": [
       "array([[ 0,  1,  2,  3,  4,  5,  6,  7],\n",
       "       [ 8,  9, 10, 11, 12, 13, 14, 15],\n",
       "       [16, 17, 18, 19, 20, 21, 22, 23],\n",
       "       [24, 25, 26, 27, 28, 29, 30, 31]])"
      ]
     },
     "execution_count": 76,
     "metadata": {},
     "output_type": "execute_result"
    }
   ],
   "source": [
    "matrix_list"
   ]
  },
  {
   "cell_type": "code",
   "execution_count": 80,
   "metadata": {},
   "outputs": [
    {
     "data": {
      "text/plain": [
       "array([[12, 13],\n",
       "       [20, 21]])"
      ]
     },
     "execution_count": 80,
     "metadata": {},
     "output_type": "execute_result"
    }
   ],
   "source": [
    "#  expected\n",
    "# 12, 13\n",
    "# 20, 21\n",
    "\n",
    "matrix_list[1:3, 4:6]"
   ]
  },
  {
   "cell_type": "code",
   "execution_count": 83,
   "metadata": {},
   "outputs": [
    {
     "data": {
      "text/plain": [
       "array([ 5, 13, 21, 29])"
      ]
     },
     "execution_count": 83,
     "metadata": {},
     "output_type": "execute_result"
    }
   ],
   "source": [
    "# expected 5, 13, 21, 29\n",
    "matrix_list[:, 5]"
   ]
  },
  {
   "cell_type": "code",
   "execution_count": null,
   "metadata": {},
   "outputs": [],
   "source": []
  }
 ],
 "metadata": {
  "kernelspec": {
   "display_name": "Python 3",
   "language": "python",
   "name": "python3"
  },
  "language_info": {
   "codemirror_mode": {
    "name": "ipython",
    "version": 3
   },
   "file_extension": ".py",
   "mimetype": "text/x-python",
   "name": "python",
   "nbconvert_exporter": "python",
   "pygments_lexer": "ipython3",
   "version": "3.7.3"
  }
 },
 "nbformat": 4,
 "nbformat_minor": 4
}
