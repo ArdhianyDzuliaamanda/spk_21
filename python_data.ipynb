{
 "cells": [
  {
   "cell_type": "markdown",
   "metadata": {},
   "source": [
    "### Data type in python"
   ]
  },
  {
   "cell_type": "code",
   "execution_count": 5,
   "metadata": {},
   "outputs": [],
   "source": [
    "# Dynamic type\n",
    "# int, str, float, boolean"
   ]
  },
  {
   "cell_type": "code",
   "execution_count": 18,
   "metadata": {},
   "outputs": [
    {
     "name": "stdout",
     "output_type": "stream",
     "text": [
      "1\n",
      "<class 'int'>\n",
      "2\n",
      "<class 'int'>\n",
      "2\n",
      "<class 'int'>\n",
      "3\n",
      "<class 'int'>\n",
      "3\n",
      "<class 'int'>\n",
      "3\n",
      "<class 'int'>\n",
      "1\n",
      "<class 'int'>\n",
      "2\n",
      "<class 'int'>\n",
      "3\n",
      "<class 'int'>\n",
      "2\n",
      "<class 'int'>\n",
      "4\n",
      "<class 'int'>\n",
      "4\n",
      "<class 'int'>\n",
      "5\n",
      "<class 'int'>\n",
      "6\n",
      "<class 'int'>\n",
      "4\n",
      "<class 'int'>\n"
     ]
    }
   ],
   "source": [
    "# List\n",
    "# methods https://www.w3schools.com/python/python_lists_methods.asp\n",
    "x = [1,2,2,3,3,3,1,2,3,2,4,4,5,6,4]\n",
    "for i in x:\n",
    "    print(i)\n",
    "    print(type(i))"
   ]
  },
  {
   "cell_type": "code",
   "execution_count": 20,
   "metadata": {},
   "outputs": [
    {
     "name": "stdout",
     "output_type": "stream",
     "text": [
      "4\n"
     ]
    }
   ],
   "source": [
    "print(x.count(3))\n"
   ]
  },
  {
   "cell_type": "code",
   "execution_count": 25,
   "metadata": {},
   "outputs": [
    {
     "name": "stdout",
     "output_type": "stream",
     "text": [
      "index 1\n",
      "value 2\n"
     ]
    }
   ],
   "source": [
    "# Tuple\n",
    "# methods https://www.w3schools.com/python/python_ref_tuple.asp\n",
    "tuple_1 = (1,2,3)\n",
    "print('index', tuple_1.index(2))\n",
    "print('value', tuple_1[1])"
   ]
  },
  {
   "cell_type": "code",
   "execution_count": 33,
   "metadata": {},
   "outputs": [
    {
     "name": "stdout",
     "output_type": "stream",
     "text": [
      "Galaxy note 12\n",
      "1500\n",
      "samsung\n"
     ]
    }
   ],
   "source": [
    "# Dict\n",
    "# methods https://www.w3schools.com/python/python_ref_dictionary.asp\n",
    "dict_1 = {'phone': 'iphone-13', 'price': 2500}\n",
    "dict_2 = {'phone': 'Galaxy note 12', 'price': 1500, 'brand': 'samsung'}\n",
    "print(dict_2['phone'])\n",
    "print(dict_2['price'])\n",
    "print(dict_2.get('brand', 'brand not registered'))"
   ]
  },
  {
   "cell_type": "code",
   "execution_count": 44,
   "metadata": {},
   "outputs": [
    {
     "name": "stdout",
     "output_type": "stream",
     "text": [
      "key_name: phone , value: iphone-13\n",
      "key_name: price , value: 2500\n"
     ]
    }
   ],
   "source": [
    "dict_2 = {'phone': 'Galaxy note 12', 'price': 1500, 'brand': 'samsung'}\n",
    "\n",
    "for k, v in dict_1.items():\n",
    "    print('key_name:', k, ', value:', v)"
   ]
  },
  {
   "cell_type": "code",
   "execution_count": 45,
   "metadata": {},
   "outputs": [
    {
     "name": "stdout",
     "output_type": "stream",
     "text": [
      "keys: dict_keys(['phone', 'price', 'brand'])\n",
      "values: dict_values(['Galaxy note 12', 1500, 'samsung'])\n"
     ]
    }
   ],
   "source": [
    "print('keys:', dict_2.keys())\n",
    "print('values:', dict_2.values())"
   ]
  },
  {
   "cell_type": "code",
   "execution_count": 39,
   "metadata": {},
   "outputs": [
    {
     "name": "stdout",
     "output_type": "stream",
     "text": [
      "Brand: unidentified brand\n",
      "model: iphone-13\n",
      "price: $ 2500\n",
      "===========================\n",
      "Brand: samsung\n",
      "model: Galaxy note 12\n",
      "price: $ 1500\n",
      "===========================\n",
      "Brand: google\n",
      "model: pixel XL\n",
      "price: $ 0\n",
      "===========================\n"
     ]
    }
   ],
   "source": [
    "phones =[\n",
    "    {'model': 'iphone-13', 'price': 2500},\n",
    "    {'model': 'Galaxy note 12', 'price': 1500, 'brand': 'samsung'},\n",
    "    {'model': 'pixel XL', 'brand': 'google'},\n",
    "]\n",
    "\n",
    "for phone in phones:\n",
    "    print('Brand:', phone.get('brand', 'unidentified brand'))\n",
    "    print('model:', phone['model'])\n",
    "    print('price: $', phone.get('price', 0))\n",
    "    print('===========================')\n",
    "    "
   ]
  },
  {
   "cell_type": "code",
   "execution_count": null,
   "metadata": {},
   "outputs": [],
   "source": [
    "# Set\n",
    "#  methods https://www.w3schools.com/python/python_ref_dictionary.asp"
   ]
  },
  {
   "cell_type": "markdown",
   "metadata": {},
   "source": [
    "### ndArray in numpy\n",
    "reference https://numpy.org/doc/stable/reference/arrays.ndarray.html"
   ]
  },
  {
   "cell_type": "code",
   "execution_count": null,
   "metadata": {},
   "outputs": [],
   "source": []
  },
  {
   "cell_type": "code",
   "execution_count": null,
   "metadata": {},
   "outputs": [],
   "source": []
  },
  {
   "cell_type": "code",
   "execution_count": null,
   "metadata": {},
   "outputs": [],
   "source": []
  },
  {
   "cell_type": "code",
   "execution_count": null,
   "metadata": {},
   "outputs": [],
   "source": []
  }
 ],
 "metadata": {
  "kernelspec": {
   "display_name": "Python 3",
   "language": "python",
   "name": "python3"
  },
  "language_info": {
   "codemirror_mode": {
    "name": "ipython",
    "version": 3
   },
   "file_extension": ".py",
   "mimetype": "text/x-python",
   "name": "python",
   "nbconvert_exporter": "python",
   "pygments_lexer": "ipython3",
   "version": "3.7.3"
  }
 },
 "nbformat": 4,
 "nbformat_minor": 4
}
